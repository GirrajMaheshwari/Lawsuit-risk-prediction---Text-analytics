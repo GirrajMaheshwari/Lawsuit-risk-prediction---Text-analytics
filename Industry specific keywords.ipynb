{
 "cells": [
  {
   "cell_type": "code",
   "execution_count": 1,
   "metadata": {
    "collapsed": true
   },
   "outputs": [],
   "source": [
    "#importing all packages\n",
    "import re\n",
    "import string\n",
    "import rake_nltk\n",
    "from rake_nltk import Rake\n",
    "import operator\n",
    "import os\n",
    "#os.chdir('C:\\\\Users\\\\acer1\\\\Desktop\\\\Starr mine\\\\txt_data_final')\n",
    "from operator import itemgetter\n",
    "import nltk\n",
    "\n",
    "import string\n",
    "from nltk.tokenize import RegexpTokenizer\n",
    "from nltk.corpus import stopwords\n",
    "from nltk.stem import PorterStemmer\n",
    "ps = PorterStemmer()\n",
    "\n",
    "import pandas as pd\n",
    "import numpy as np"
   ]
  },
  {
   "cell_type": "code",
   "execution_count": 2,
   "metadata": {
    "collapsed": true
   },
   "outputs": [],
   "source": [
    "#working directory set\n",
    "os.chdir('C:\\\\Users\\\\acer1\\\\Desktop\\\\Starr mine\\\\all data text')\n",
    "#os.getcwd()\n"
   ]
  },
  {
   "cell_type": "code",
   "execution_count": 5,
   "metadata": {},
   "outputs": [
    {
     "data": {
      "text/plain": [
       "u'hey work wrk'"
      ]
     },
     "execution_count": 5,
     "metadata": {},
     "output_type": "execute_result"
    }
   ],
   "source": [
    "#processing the data- removing stop words and stem\n",
    "\n",
    "def preprocess(sentence1):\n",
    "    #words = sentence1.lower().split()\n",
    "    #sentence = \" \".join(sorted(set(words), key=words.index))\n",
    "    sentence = sentence1.lower()\n",
    "    tokenizer = RegexpTokenizer(r'\\w+')\n",
    "    tokens = tokenizer.tokenize(sentence)\n",
    "    filtered_words = [ps.stem(w.decode('utf8', 'ignore')) for w in tokens if not w in stopwords.words('english')]\n",
    "    ls = \" \".join(filtered_words)\n",
    "    words = ls.split()\n",
    "    sentence = \" \".join(sorted(set(words), key=words.index))\n",
    "    return sentence\n",
    "\n"
   ]
  },
  {
   "cell_type": "code",
   "execution_count": null,
   "metadata": {
    "collapsed": true,
    "scrolled": true
   },
   "outputs": [],
   "source": [
    "#Making data set- text for industries specific\n",
    "n = 0\n",
    "df = pd.read_excel(\"C:\\\\Users\\\\acer1\\\\Desktop\\\\Starr mine\\\\Rename_file.xlsx\")\n",
    "for index, row in df.iterrows():\n",
    "#document_text = open(%s.txt %item, 'r')\n",
    "#data= document_text.read()\n",
    "    t = row[1]\n",
    "    try:\n",
    "        document_text = open(\"C:\\\\Users\\\\acer1\\\\Desktop\\\\Starr mine\\\\all data text\\\\%s.txt\" %row[1], 'r')\n",
    "        data = document_text.read()\n",
    "        data_1 = preprocess(data)\n",
    "        Sec = row[2]\n",
    "        Sec_1 = open(\"C:\\\\Users\\\\acer1\\\\Desktop\\\\Starr mine\\\\all_data_text_with_industry\\\\%s.txt\" %Sec,\"a\")\n",
    "        Sec_1.write(data_1)\n",
    "        Sec_1.close()\n",
    "        print \"%s\" %row[1]\n",
    "        n = n+1\n",
    "        print n\n",
    "    except (IOError, UnicodeEncodeError):\n",
    "        pass"
   ]
  },
  {
   "cell_type": "code",
   "execution_count": null,
   "metadata": {
    "collapsed": true
   },
   "outputs": [],
   "source": [
    "#counting frequency of keywords- Specific to industry -- and saving it as csv\n",
    "lst = ['Basic Materials', 'Conglomerates', 'Consumer Cyclical','Consumer Non-Cyclical', 'Energy', 'Financial',\n",
    "      'Healthcare', 'Services', 'Technology', 'Transportation', 'Utilities','0']\n",
    "###lst1 =['xy1']\n",
    "n =0\n",
    "for i in lst:\n",
    "    d1 = open('C:\\\\Users\\\\acer1\\\\Desktop\\\\Starr mine\\\\all_data_text_with_industry\\\\%s.txt'%i,'r')\n",
    "    d2= d1.read()\n",
    "    count_1 = []\n",
    "#counting frequency of each word\n",
    "    frequency = {}\n",
    "    for word in d2.split():\n",
    "        count = frequency.get(word,0)\n",
    "        frequency[word] = count + 1\n",
    "        frequency_list = frequency.keys()\n",
    "        t =[]\n",
    "    for words in frequency_list:\n",
    "        try:\n",
    "            if len(words) > 3:\n",
    "                t = t + [[words, frequency[words]]]\n",
    "        except (KeyError):\n",
    "            n= n+1\n",
    "            print n , \"%s\"%i\n",
    "            pass\n",
    "    count_1 = sorted(t, key = itemgetter(1), reverse=True)\n",
    "    count_1\n",
    "#saving output in csv file\n",
    "    file = open('C:\\\\Users\\\\acer1\\\\Desktop\\\\Starr mine\\\\All_csv\\\\%s.csv'%i, 'w')\n",
    "    for element in count_1:\n",
    "        file.write(\"%s,%d\\n\" % (element[0], element[1]))\n",
    "    file.close"
   ]
  },
  {
   "cell_type": "code",
   "execution_count": 4,
   "metadata": {
    "collapsed": true
   },
   "outputs": [],
   "source": [
    "#combinining all data set keywords - Keywrods file---\n",
    "os.chdir('C:\\\\Users\\\\acer1\\\\Desktop\\\\Starr mine\\\\All_csv')\n",
    "Combined = pd.DataFrame(columns = ['Word', \"Count\"])\n",
    "for file in  os.listdir('.'):\n",
    "    namedf = pd.read_csv('C:\\\\Users\\\\acer1\\\\Desktop\\\\Starr mine\\\\All_csv\\\\%s' %file)\n",
    "    #print namedf.columns\n",
    "    Combined = Combined.append(namedf)\n",
    "    #Combined.close()\n",
    "#Combined.to_csv('C:\\\\Users\\\\acer1\\\\Desktop\\\\Starr mine\\\\All_data.csv')\n",
    "#Combined"
   ]
  },
  {
   "cell_type": "code",
   "execution_count": 7,
   "metadata": {
    "collapsed": true
   },
   "outputs": [],
   "source": [
    "#filetring unique keywords for every industry---present in one industry but not in other\n",
    "#Filtering uniques words\n",
    "\n",
    "#keywords unique to industry\n",
    "No_of_sector = 6\n",
    "Words_frequency_per_sector = 15\n",
    "\n",
    "#count words appearing in number of sectors \n",
    "df = Combined.groupby('Word')[[\"Count\"]].count().reset_index()\n",
    "df_1 = df[df.Count < No_of_sector]\n",
    "\n",
    "lst = [\"Basic Materials\", \"Conglomerates\", \"Consumer Cyclical\", \"Consumer Non-Cyclical\", \"Energy\",\n",
    "      \"Services\", \"Technology\", \"Transportation\", \"Utilities\"]\n",
    "\n",
    "for i in lst:\n",
    "#Call industry file and removing words appearing in other sector\n",
    "    Financial_mod = pd.read_csv('C:\\\\Users\\\\acer1\\\\Desktop\\\\Starr mine\\\\All_csv\\\\%s.csv'%i)\n",
    "    df_2 = df_1.iloc[:,0]\n",
    "    H_C = Financial_mod[Financial_mod.Word.isin(df_2)==True].reset_index(drop = True)\n",
    "    keyword_HC  = H_C[H_C['Count']> Words_frequency_per_sector]\n",
    "    keyword_HC\n",
    "\n",
    "    keyword_HC.to_csv('C:\\\\Users\\\\acer1\\\\Desktop\\\\Starr mine\\\\Keywords\\\\%s.csv'%i)\n"
   ]
  },
  {
   "cell_type": "code",
   "execution_count": null,
   "metadata": {
    "collapsed": true
   },
   "outputs": [],
   "source": [
    "#copying file according to sector in respective folders\n",
    "\n",
    "'''\n",
    "import os\n",
    "import shutil\n",
    "#os.chdir('C:\\\\') #Make sure you add your source and destination path below\n",
    "\n",
    "df = pd.read_excel(\"C:\\\\Users\\\\acer1\\\\Desktop\\\\Starr mine\\\\Rename_file.xlsx\")\n",
    "\n",
    "for index, row in df.iterrows():\n",
    "    try:\n",
    "        filename = '%s.txt' %row[1]\n",
    "        dir_src = (\"C:\\\\Users\\\\acer1\\\\Desktop\\\\Starr mine\\\\all data text\\\\\")\n",
    "        Sec = row[2]\n",
    "        dir_dst = (\"C:\\\\Users\\\\acer1\\\\Desktop\\\\Starr mine\\\\all_data_text_with_industry\\\\%s\" %Sec)\n",
    "        shutil.copy( dir_src + filename, dir_dst)\n",
    "        print(filename)\n",
    "    except (IOError):\n",
    "        pass\n",
    "'''"
   ]
  }
 ],
 "metadata": {
  "kernelspec": {
   "display_name": "Python 2",
   "language": "python",
   "name": "python2"
  },
  "language_info": {
   "codemirror_mode": {
    "name": "ipython",
    "version": 2
   },
   "file_extension": ".py",
   "mimetype": "text/x-python",
   "name": "python",
   "nbconvert_exporter": "python",
   "pygments_lexer": "ipython2",
   "version": "2.7.13"
  }
 },
 "nbformat": 4,
 "nbformat_minor": 2
}
